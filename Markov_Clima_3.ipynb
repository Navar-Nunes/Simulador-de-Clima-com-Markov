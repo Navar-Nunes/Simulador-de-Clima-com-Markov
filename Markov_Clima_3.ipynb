{
  "cells": [
    {
      "cell_type": "code",
      "execution_count": 4,
      "metadata": {
        "trusted": true
      },
      "outputs": [],
      "source": [
        "import numpy as np"
      ]
    },
    {
      "cell_type": "code",
      "execution_count": 5,
      "metadata": {
        "trusted": true
      },
      "outputs": [],
      "source": [
        "import random as rm"
      ]
    },
    {
      "cell_type": "code",
      "execution_count": 6,
      "metadata": {
        "trusted": true
      },
      "outputs": [],
      "source": [
        "# Inicialmente, vamos acrescentar os diferentes estados:\n",
        "\n",
        "states = [\"Limpo\",\"Chuva\",\"Névoa\",\"Granizo\"]"
      ]
    },
    {
      "cell_type": "code",
      "execution_count": 7,
      "metadata": {
        "trusted": true
      },
      "outputs": [],
      "source": [
        "# Vamos acrescentar as possíveis transições:\n",
        "\n",
        "transitionName = [[\"LL\",\"LC\",\"LN\",\"LG\"],[\"CL\",\"CC\",\"CN\",\"CG\"],[\"NL\",\"NC\",\"NN\",\"NG\"],[\"GL\",\"GC\",\"GN\",\"GG\"]]"
      ]
    },
    {
      "cell_type": "code",
      "execution_count": 8,
      "metadata": {
        "trusted": true
      },
      "outputs": [],
      "source": [
        "# Aqui, será formada a matriz de probabilidades. O grafo pode ser encontrado junto do código.\n",
        "\n",
        "transitionMatrix = [[0.4,0.4,0.1,0.1],[0.1,0.3,0.5,0.1],[0.55,0.2,0.2,0.05],[0.1,0.2,0.1,0.6]]"
      ]
    },
    {
      "cell_type": "code",
      "execution_count": 9,
      "metadata": {
        "trusted": true
      },
      "outputs": [],
      "source": [
        "totalDays = 10"
      ]
    },
    {
      "cell_type": "code",
      "execution_count": 10,
      "metadata": {
        "trusted": true
      },
      "outputs": [
        {
          "name": "stdout",
          "output_type": "stream",
          "text": [
            "Start climate: Limpo\n",
            "Lista de atividades: ['Limpo', 'Granizo', 'Granizo', 'Granizo', 'Granizo', 'Granizo', 'Granizo', 'Granizo', 'Limpo', 'Limpo', 'Chuva']\n",
            "Estado final após 10 dias: Chuva\n",
            "Probabilidade dessa sequência de eventos: 3.73248e-05\n"
          ]
        }
      ],
      "source": [
        "def activity_climate(days):\n",
        "    \n",
        "    # O estado inicial será \"Limpo\"\n",
        "    \n",
        "    activityToday = \"Limpo\"\n",
        "    \n",
        "    print(\"Start climate: \" + activityToday)\n",
        "    \n",
        "    activityList = [activityToday]\n",
        "    i = 0\n",
        "    \n",
        "    # Agora são calculadas as probabilidades\n",
        "    \n",
        "    prob = 1\n",
        "    \n",
        "    while i != days:\n",
        "        if activityToday == \"Limpo\":\n",
        "            change = np.random.choice(transitionName[0],replace=True,p=transitionMatrix[0])\n",
        "            if change == \"LL\":\n",
        "                prob = prob * 0.2\n",
        "                activityList.append(\"Limpo\")\n",
        "                pass\n",
        "            elif change == \"LC\":\n",
        "                prob = prob * 0.4\n",
        "                activityToday = \"Chuva\"\n",
        "                activityList.append(\"Chuva\")\n",
        "            elif change == \"LN\":\n",
        "                prob = prob * 0.1\n",
        "                activityToday = \"Névoa\"\n",
        "                activityList.append(\"Névoa\")\n",
        "            else:\n",
        "                prob = prob * 0.1\n",
        "                activityToday = \"Granizo\"\n",
        "                activityList.append(\"Granizo\")\n",
        "        elif activityToday == \"Chuva\":\n",
        "            change = np.random.choice(transitionName[1],replace=True,p=transitionMatrix[1])\n",
        "            if change == \"CL\":\n",
        "                prob = prob * 0.1\n",
        "                activityToday = \"Limpo\"\n",
        "                activityList.append(\"Limpo\")\n",
        "            elif change == \"CC\":\n",
        "                prob = prob * 0.3\n",
        "                activityList.append(\"Chuva\")\n",
        "                pass\n",
        "            elif change == \"CN\":\n",
        "                prob = prob * 0.5\n",
        "                activityToday = \"Névoa\"\n",
        "                activityList.append(\"Névoa\")\n",
        "            else:\n",
        "                prob = prob * 0.1\n",
        "                activityToday = \"Granizo\"\n",
        "                activityList.append(\"Granizo\")\n",
        "        elif activityToday == \"Névoa\":\n",
        "            change = np.random.choice(transitionName[2],replace=True,p=transitionMatrix[2])\n",
        "            if change == \"NL\":\n",
        "                prob = prob * 0.55\n",
        "                activityToday = \"Limpo\"\n",
        "                activityList.append(\"Limpo\")\n",
        "            elif change == \"NC\":\n",
        "                prob = prob * 0.2\n",
        "                activityToday = \"Chuva\"\n",
        "                activityList.append(\"Chuva\")\n",
        "            elif change == \"NN\":\n",
        "                prob = prob * 0.2\n",
        "                activityList.append(\"Névoa\")\n",
        "                pass\n",
        "            else:\n",
        "                prob = prob * 0.05\n",
        "                activityToday = \"Granizo\"\n",
        "                activityList.append(\"Granizo\")\n",
        "        elif activityToday == \"Granizo\":\n",
        "            change = np.random.choice(transitionName[3],replace=True,p=transitionMatrix[3])\n",
        "            if change == \"GL\":\n",
        "                prob = prob * 0.1\n",
        "                activityToday = \"Limpo\"\n",
        "                activityList.append(\"Limpo\")\n",
        "            elif change == \"GC\":\n",
        "                prob = prob * 0.2\n",
        "                activityToday = \"Chuva\"\n",
        "                activityList.append(\"Chuva\")\n",
        "            elif change == \"NN\":\n",
        "                prob = prob * 0.1\n",
        "                activityToday = \"Névoa\"\n",
        "                activityList.append(\"Névoa\")\n",
        "            else:\n",
        "                prob = prob * 0.6\n",
        "                activityList.append(\"Granizo\")\n",
        "                pass\n",
        "        i += 1  \n",
        "    print(\"Lista de atividades: \" + str(activityList))\n",
        "    print(\"Estado final após \"+ str(days) + \" dias: \" + activityToday)\n",
        "    print(\"Probabilidade dessa sequência de eventos: \" + str(prob))\n",
        "\n",
        "activity_climate(totalDays)"
      ]
    },
    {
      "cell_type": "code",
      "execution_count": null,
      "metadata": {},
      "outputs": [],
      "source": []
    }
  ],
  "metadata": {
    "interpreter": {
      "hash": "126e942dc717a9326629e3ca7247b27945afb3f8baee519bc074fe2ee3799250"
    },
    "kernelspec": {
      "display_name": "Pyolite",
      "language": "python",
      "name": "python3"
    },
    "language_info": {
      "codemirror_mode": {
        "name": "ipython",
        "version": 3
      },
      "file_extension": ".py",
      "mimetype": "text/x-python",
      "name": "python",
      "nbconvert_exporter": "python",
      "pygments_lexer": "ipython3",
      "version": "3.7.2"
    }
  },
  "nbformat": 4,
  "nbformat_minor": 4
}
